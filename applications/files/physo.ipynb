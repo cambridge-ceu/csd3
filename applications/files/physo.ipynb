{
 "cells": [
  {
   "attachments": {},
   "cell_type": "markdown",
   "metadata": {},
   "source": [
    "1. Setup"
   ]
  },
  {
   "cell_type": "code",
   "execution_count": null,
   "metadata": {},
   "outputs": [],
   "source": [
    "import numpy as np\n",
    "import physo\n",
    "\n",
    "z = np.random.uniform(-10, 10, 50)\n",
    "v = np.random.uniform(-10, 10, 50)\n",
    "X = np.stack((z, v), axis=0)\n",
    "y = 1.234*9.807*z + 1.234*v**2\n",
    "# set 1"
   ]
  },
  {
   "attachments": {},
   "cell_type": "markdown",
   "metadata": {},
   "source": [
    "2. Session runs"
   ]
  },
  {
   "cell_type": "code",
   "execution_count": null,
   "metadata": {},
   "outputs": [],
   "source": [
    "# set 1. Symbolic regression with default hyperparameters.\n",
    "expression, logs = physo.SR(X, y,\n",
    "                            X_units = [ [1, 0, 0] , [1, -1, 0] ],\n",
    "                            y_units = [2, -2, 1],\n",
    "                            fixed_consts       = [ 1.      ],\n",
    "                            fixed_consts_units = [ [0,0,0] ],\n",
    "                            free_consts_units  = [ [0, 0, 1] , [1, -2, 0] ],\n",
    ")\n",
    "# set 2 Hyperparameters configurations.\n",
    "expression, logs = physo.SR(X, y,\n",
    "                            X_units = [ [1, 0, 0] , [1, -1, 0] ],\n",
    "                            y_units = [2, -2, 1],\n",
    "                            fixed_consts       = [ 1.      ],\n",
    "                            fixed_consts_units = [ [0,0,0] ],\n",
    "                            free_consts_units  = [ [0, 0, 1] , [1, -2, 0] ],\n",
    "                            run_config = physo.config.config1.config1\n",
    ")\n",
    "# set 3. Selectable symbolic operations.\n",
    "expression, logs = physo.SR(X, y,\n",
    "                            X_names = [ \"z\"       , \"v\"        ],\n",
    "                            X_units = [ [1, 0, 0] , [1, -1, 0] ],\n",
    "                            y_name  = \"E\",\n",
    "                            y_units = [2, -2, 1],\n",
    "                            fixed_consts       = [ 1.      ],\n",
    "                            fixed_consts_units = [ [0,0,0] ],\n",
    "                            free_consts_names = [ \"m\"       , \"g\"        ],\n",
    "                            free_consts_units = [ [0, 0, 1] , [1, -2, 0] ],\n",
    "                            op_names = [\"mul\", \"add\", \"sub\", \"div\", \"inv\", \"n2\", \"sqrt\", \"neg\", \"exp\", \"log\", \"sin\", \"cos\"]\n",
    ")"
   ]
  },
  {
   "attachments": {},
   "cell_type": "markdown",
   "metadata": {},
   "source": [
    "3. wrapup"
   ]
  },
  {
   "cell_type": "code",
   "execution_count": null,
   "metadata": {},
   "outputs": [],
   "source": [
    "print(expression.get_infix_pretty(do_simplify=True))\n",
    "print(expression.get_infix_latex(do_simplify=True))\n",
    "print(expression.free_const_values.cpu().detach().numpy())\n",
    "\n",
    "pareto_front_complexities, pareto_front_expressions, pareto_front_r, pareto_front_rmse = logs.get_pareto_front()\n",
    "for i, prog in enumerate(pareto_front_expressions):\n",
    "    # Showing expression\n",
    "    print(prog.get_infix_pretty(do_simplify=True))\n",
    "    # Showing free constant\n",
    "    free_consts = prog.free_const_values.detach().cpu().numpy()\n",
    "    for j in range (len(free_consts)):\n",
    "        print(\"%s = %f\"%(prog.library.free_const_names[j], free_consts[j]))\n",
    "    # Showing RMSE\n",
    "    print(\"RMSE = {:e}\".format(pareto_front_rmse[i]))\n",
    "    print(\"-------------\")\n"
   ]
  }
 ],
 "metadata": {
  "kernelspec": {
   "display_name": "Python 3",
   "language": "python",
   "name": "python3"
  },
  "language_info": {
   "name": "python",
   "version": "3.8.13"
  },
  "orig_nbformat": 4
 },
 "nbformat": 4,
 "nbformat_minor": 2
}
